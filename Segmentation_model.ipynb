{
 "cells": [
  {
   "cell_type": "code",
   "execution_count": 12,
   "id": "7c2c3d28",
   "metadata": {},
   "outputs": [],
   "source": [
    "import tensorflow as tf\n",
    "from tensorflow.keras.models import Model\n",
    "from tensorflow.keras.layers import Input, concatenate, Conv2D, MaxPooling2D, Activation, UpSampling2D, BatchNormalization, AveragePooling2D, Dropout\n",
    "from tensorflow.python.training import optimizer\n",
    "from sklearn.model_selection import train_test_split\n",
    "from tensorflow.keras.models import load_model\n",
    "\n",
    "import pandas as pd\n",
    "import numpy as np\n",
    "import PIL\n",
    "import os\n",
    "import random\n",
    "import matplotlib.pyplot as plt\n",
    "from tqdm import tqdm"
   ]
  },
  {
   "cell_type": "code",
   "execution_count": 5,
   "id": "6370ebd5",
   "metadata": {
    "scrolled": true
   },
   "outputs": [
    {
     "data": {
      "text/html": [
       "<div>\n",
       "<style scoped>\n",
       "    .dataframe tbody tr th:only-of-type {\n",
       "        vertical-align: middle;\n",
       "    }\n",
       "\n",
       "    .dataframe tbody tr th {\n",
       "        vertical-align: top;\n",
       "    }\n",
       "\n",
       "    .dataframe thead th {\n",
       "        text-align: right;\n",
       "    }\n",
       "</style>\n",
       "<table border=\"1\" class=\"dataframe\">\n",
       "  <thead>\n",
       "    <tr style=\"text-align: right;\">\n",
       "      <th></th>\n",
       "      <th>ImageId</th>\n",
       "      <th>HasShip</th>\n",
       "    </tr>\n",
       "  </thead>\n",
       "  <tbody>\n",
       "    <tr>\n",
       "      <th>0</th>\n",
       "      <td>00003e153.jpg</td>\n",
       "      <td>0</td>\n",
       "    </tr>\n",
       "    <tr>\n",
       "      <th>1</th>\n",
       "      <td>0001124c7.jpg</td>\n",
       "      <td>0</td>\n",
       "    </tr>\n",
       "    <tr>\n",
       "      <th>2</th>\n",
       "      <td>000155de5.jpg</td>\n",
       "      <td>1</td>\n",
       "    </tr>\n",
       "    <tr>\n",
       "      <th>3</th>\n",
       "      <td>000194a2d.jpg</td>\n",
       "      <td>1</td>\n",
       "    </tr>\n",
       "    <tr>\n",
       "      <th>8</th>\n",
       "      <td>0001b1832.jpg</td>\n",
       "      <td>0</td>\n",
       "    </tr>\n",
       "  </tbody>\n",
       "</table>\n",
       "</div>"
      ],
      "text/plain": [
       "         ImageId HasShip\n",
       "0  00003e153.jpg       0\n",
       "1  0001124c7.jpg       0\n",
       "2  000155de5.jpg       1\n",
       "3  000194a2d.jpg       1\n",
       "8  0001b1832.jpg       0"
      ]
     },
     "execution_count": 5,
     "metadata": {},
     "output_type": "execute_result"
    }
   ],
   "source": [
    "train_df = pd.read_csv('train_ship_segmentations_v2.csv', index_col=0)\n",
    "\n",
    "df = pd.read_csv('train_ship_segmentations_v2.csv')\n",
    "df = df.drop_duplicates(subset='ImageId').fillna(0).rename(columns={\"EncodedPixels\": \"HasShip\"})\n",
    "df.loc[(df.HasShip != 0), 'HasShip'] = 1\n",
    "df.head()"
   ]
  },
  {
   "cell_type": "code",
   "execution_count": 6,
   "id": "1cd4efe2",
   "metadata": {},
   "outputs": [],
   "source": [
    "def load_img(filename, shape = (768, 768)):\n",
    "    \"\"\"\n",
    "    gets np.array in rgb rofmat for filename\n",
    "    \"\"\"\n",
    "    img = np.array(PIL.Image.open(r\"C:/Airbus-ship-segm/train_v2/\"+filename).resize(shape))\n",
    "    return img"
   ]
  },
  {
   "cell_type": "code",
   "execution_count": 7,
   "id": "c7d9e2c5",
   "metadata": {},
   "outputs": [],
   "source": [
    "def get_mask(img_name):\n",
    "    \"\"\"\n",
    "    input: img_name as a string\n",
    "    output: mask as a np.array(768,768)\n",
    "    \"\"\"\n",
    "    rle = [int(x) for x in \" \".join(train_df[train_df.index.isin([img_name])]['EncodedPixels'].values).split()]\n",
    "    rle_pairs= [[rle[i], rle[i+1]] for i in range(0,len(rle),2)]\n",
    "    pixels = [(pix_pos%768, pix_pos//768) for start,length in rle_pairs for pix_pos in range(start,start+length)]\n",
    "    mask = np.zeros((768,768))\n",
    "    mask[tuple(zip(*pixels))] = 1\n",
    "    return mask"
   ]
  },
  {
   "cell_type": "code",
   "execution_count": 8,
   "id": "a9558509",
   "metadata": {},
   "outputs": [],
   "source": [
    "IMG_WIDTH = 768\n",
    "IMG_HEIGHT = 768\n",
    "IMG_CHANNELS = 3\n",
    "image_shape=(768, 768)"
   ]
  },
  {
   "cell_type": "code",
   "execution_count": 9,
   "id": "d0a4dab7",
   "metadata": {},
   "outputs": [],
   "source": [
    "random.seed(2)\n",
    "train_ids = random.sample(list(df.loc[df['HasShip'] == 1]['ImageId'].values), 1600)\n",
    "train_ids, test_ids = train_test_split(train_ids, test_size=0.3, random_state=42)"
   ]
  },
  {
   "cell_type": "code",
   "execution_count": 10,
   "id": "4d22d3aa",
   "metadata": {},
   "outputs": [],
   "source": [
    "X_train = np.zeros((len(train_ids), IMG_HEIGHT, IMG_WIDTH, IMG_CHANNELS))\n",
    "y_train = np.zeros((len(train_ids), IMG_HEIGHT, IMG_WIDTH, 1), dtype=np.bool_)\n",
    "\n",
    "X_test = np.zeros((len(test_ids), IMG_HEIGHT, IMG_WIDTH, IMG_CHANNELS))\n",
    "y_test = np.zeros((len(test_ids), IMG_HEIGHT, IMG_WIDTH, 1), dtype=np.bool_) #y boolean for fitting model\n",
    "y_true = np.zeros((len(test_ids), IMG_HEIGHT, IMG_WIDTH, 1), dtype=np.bool_) #y (0,1) for evaluating model"
   ]
  },
  {
   "cell_type": "code",
   "execution_count": 12,
   "id": "cc099c02",
   "metadata": {},
   "outputs": [
    {
     "name": "stderr",
     "output_type": "stream",
     "text": [
      "100%|██████████████████████████████████████████████████████████████████████████████| 1120/1120 [00:38<00:00, 29.08it/s]\n"
     ]
    }
   ],
   "source": [
    "for n, id_ in tqdm(enumerate(train_ids), total=len(train_ids)):\n",
    "    img = load_img(id_, (IMG_HEIGHT, IMG_WIDTH))/255\n",
    "    X_train[n] = img\n",
    "    mask = get_mask(id_)\n",
    "    mask = mask == 1\n",
    "    y_train[n] = mask.reshape(768,768,1)"
   ]
  },
  {
   "cell_type": "code",
   "execution_count": 13,
   "id": "25cb9139",
   "metadata": {},
   "outputs": [
    {
     "name": "stderr",
     "output_type": "stream",
     "text": [
      "100%|████████████████████████████████████████████████████████████████████████████████| 480/480 [00:17<00:00, 28.10it/s]\n"
     ]
    }
   ],
   "source": [
    "for n, id_ in tqdm(enumerate(test_ids), total=len(test_ids)):\n",
    "    img = load_img(id_, (IMG_HEIGHT, IMG_WIDTH))/255\n",
    "    X_test[n] = img\n",
    "    mask = get_mask(id_)\n",
    "    y_true[n] = mask.reshape(768,768,1)\n",
    "    mask = mask == 1\n",
    "    y_test[n] = mask.reshape(768,768,1)"
   ]
  },
  {
   "cell_type": "code",
   "execution_count": 25,
   "id": "ac7d6b9e",
   "metadata": {},
   "outputs": [],
   "source": [
    "inputs = Input(shape=(768,768,3))\n",
    "conv0 = Conv2D(8, 3, activation='relu', padding='same', kernel_initializer='he_normal')(inputs)\n",
    "conv0 = BatchNormalization()(conv0)\n",
    "conv0 = Conv2D(8, 3, activation='relu', padding='same', kernel_initializer='he_normal')(conv0)\n",
    "conv0 = BatchNormalization()(conv0)\n",
    "\n",
    "comp0 = AveragePooling2D((6,6))(conv0)\n",
    "conv1 = Conv2D(16, 3, activation='relu', padding='same', kernel_initializer='he_normal')(comp0)\n",
    "conv1 = BatchNormalization()(conv1)\n",
    "conv1 = Conv2D(16, 3, activation='relu', padding='same', kernel_initializer='he_normal')(conv1)\n",
    "conv1 = BatchNormalization()(conv1)\n",
    "conv1 = Dropout(0.4)(conv1)\n",
    "\n",
    "pool1 = MaxPooling2D(pool_size=(2,2))(conv1)\n",
    "conv2 = Conv2D(32, 3, activation='relu', padding='same', kernel_initializer='he_normal')(pool1)\n",
    "conv2 = BatchNormalization()(conv2)\n",
    "conv2 = Conv2D(32, 3, activation='relu', padding='same', kernel_initializer='he_normal')(conv2)\n",
    "conv2 = BatchNormalization()(conv2)\n",
    "conv2 = Dropout(0.4)(conv2)\n",
    "\n",
    "pool2 = MaxPooling2D(pool_size=(2,2))(conv2)\n",
    "conv3 = Conv2D(64, 3, activation='relu', padding='same', kernel_initializer='he_normal')(pool2)\n",
    "conv3 = BatchNormalization()(conv3)\n",
    "conv3 = Conv2D(64, 3, activation='relu', padding='same', kernel_initializer='he_normal')(conv3)\n",
    "conv3 = BatchNormalization()(conv3)\n",
    "conv3 = Dropout(0.4)(conv3)\n",
    "\n",
    "pool3 = MaxPooling2D(pool_size=(2,2))(conv3)\n",
    "conv4 = Conv2D(128, 3, activation='relu', padding='same', kernel_initializer='he_normal')(pool3)\n",
    "conv4 = BatchNormalization()(conv4)\n",
    "conv4 = Conv2D(128, 3, activation='relu', padding='same', kernel_initializer='he_normal')(conv4)\n",
    "conv4 = BatchNormalization()(conv4)\n",
    "conv4 = Dropout(0.4)(conv4)\n",
    "\n",
    "pool4 = MaxPooling2D(pool_size=(2,2))(conv4)\n",
    "conv5 = Conv2D(256, 3, activation='relu', padding='same', kernel_initializer='he_normal')(pool4)\n",
    "conv5 = BatchNormalization()(conv5)\n",
    "conv5 = Conv2D(256, 3, activation='relu', padding='same', kernel_initializer='he_normal')(conv5)\n",
    "conv5 = BatchNormalization()(conv5)\n",
    "\n",
    "upcv6 = UpSampling2D(size=(2,2))(conv5)\n",
    "upcv6 = Conv2D(128, 2, activation='relu', padding='same', kernel_initializer='he_normal')(upcv6)\n",
    "upcv6 = BatchNormalization()(upcv6)\n",
    "mrge6 = concatenate([conv4, upcv6], axis=3)\n",
    "conv6 = Conv2D(128, 3, activation='relu', padding='same', kernel_initializer='he_normal')(mrge6)\n",
    "conv6 = BatchNormalization()(conv6)\n",
    "conv6 = Conv2D(128, 3, activation='relu', padding='same', kernel_initializer='he_normal')(conv6)\n",
    "conv6 = BatchNormalization()(conv6)\n",
    "\n",
    "\n",
    "upcv7 = UpSampling2D(size=(2,2))(conv6)\n",
    "upcv7 = Conv2D(64, 2, activation='relu', padding='same', kernel_initializer='he_normal')(upcv7)\n",
    "upcv7 = BatchNormalization()(upcv7)\n",
    "mrge7 = concatenate([conv3, upcv7], axis=3)\n",
    "conv7 = Conv2D(64, 3, activation='relu', padding='same', kernel_initializer='he_normal')(mrge7)\n",
    "conv7 = BatchNormalization()(conv7)\n",
    "conv7 = Conv2D(64, 3, activation='relu', padding='same', kernel_initializer='he_normal')(conv7)\n",
    "conv7 = BatchNormalization()(conv7)\n",
    "\n",
    "upcv8 = UpSampling2D(size=(2,2))(conv7)\n",
    "upcv8 = Conv2D(32, 2, activation='relu', padding='same', kernel_initializer='he_normal')(upcv8)\n",
    "upcv8 = BatchNormalization()(upcv8)\n",
    "mrge8 = concatenate([conv2, upcv8], axis=3)\n",
    "conv8 = Conv2D(32, 3, activation='relu', padding='same', kernel_initializer='he_normal')(mrge8)\n",
    "conv8 = BatchNormalization()(conv8)\n",
    "conv8 = Conv2D(32, 3, activation='relu', padding='same', kernel_initializer='he_normal')(conv8)\n",
    "conv8 = BatchNormalization()(conv8)\n",
    "\n",
    "upcv9 = UpSampling2D(size=(2,2))(conv8)\n",
    "upcv9 = Conv2D(16, 2, activation='relu', padding='same', kernel_initializer='he_normal')(upcv9)\n",
    "upcv9 = BatchNormalization()(upcv9)\n",
    "mrge9 = concatenate([conv1, upcv9], axis=3)\n",
    "conv9 = Conv2D(16, 3, activation='relu', padding='same', kernel_initializer='he_normal')(mrge9)\n",
    "conv9 = BatchNormalization()(conv9)\n",
    "conv9 = Conv2D(16, 3, activation='relu', padding='same', kernel_initializer='he_normal')(conv9)\n",
    "conv9 = BatchNormalization()(conv9)\n",
    "\n",
    "dcmp10 = UpSampling2D((6,6), interpolation='bilinear')(conv9)\n",
    "mrge10 = concatenate([dcmp10, conv0], axis=3)\n",
    "conv10 = Conv2D(16, 3, activation='relu', padding='same', kernel_initializer='he_normal')(mrge10)\n",
    "conv10 = BatchNormalization()(conv10)\n",
    "conv10 = Conv2D(8, 3, activation='relu', padding='same', kernel_initializer='he_normal')(conv10)\n",
    "conv10 = BatchNormalization()(conv10)\n",
    "conv11 = Conv2D(1, 1, activation='sigmoid')(conv10)\n"
   ]
  },
  {
   "cell_type": "code",
   "execution_count": 26,
   "id": "07904ff0",
   "metadata": {},
   "outputs": [],
   "source": [
    "model = Model(inputs=inputs, outputs=conv11)\n",
    "model.compile(optimizer='adam', loss='binary_crossentropy')"
   ]
  },
  {
   "cell_type": "code",
   "execution_count": 15,
   "id": "10242ab7",
   "metadata": {
    "scrolled": true
   },
   "outputs": [
    {
     "name": "stdout",
     "output_type": "stream",
     "text": [
      "Epoch 1/15\n",
      "101/101 - 1379s - loss: 0.6163 - val_loss: 0.5213 - 1379s/epoch - 14s/step\n",
      "Epoch 2/15\n",
      "101/101 - 6908s - loss: 0.4109 - val_loss: 0.7585 - 6908s/epoch - 68s/step\n",
      "Epoch 3/15\n",
      "101/101 - 24059s - loss: 0.2331 - val_loss: 0.8602 - 24059s/epoch - 238s/step\n",
      "Epoch 4/15\n",
      "101/101 - 1379s - loss: 0.1293 - val_loss: 0.0996 - 1379s/epoch - 14s/step\n",
      "Epoch 5/15\n",
      "101/101 - 1267s - loss: 0.0787 - val_loss: 0.0629 - 1267s/epoch - 13s/step\n",
      "Epoch 6/15\n",
      "101/101 - 1271s - loss: 0.0528 - val_loss: 0.0440 - 1271s/epoch - 13s/step\n",
      "Epoch 7/15\n",
      "101/101 - 1260s - loss: 0.0385 - val_loss: 0.0323 - 1260s/epoch - 12s/step\n",
      "Epoch 8/15\n",
      "101/101 - 13310s - loss: 0.0304 - val_loss: 0.0281 - 13310s/epoch - 132s/step\n",
      "Epoch 9/15\n",
      "101/101 - 1133s - loss: 0.0250 - val_loss: 0.0220 - 1133s/epoch - 11s/step\n",
      "Epoch 10/15\n",
      "101/101 - 1206s - loss: 0.0214 - val_loss: 0.0223 - 1206s/epoch - 12s/step\n",
      "Epoch 11/15\n",
      "101/101 - 1561s - loss: 0.0195 - val_loss: 0.0210 - 1561s/epoch - 15s/step\n",
      "Epoch 12/15\n",
      "101/101 - 1137s - loss: 0.0169 - val_loss: 0.0153 - 1137s/epoch - 11s/step\n",
      "Epoch 13/15\n",
      "101/101 - 3774s - loss: 0.0154 - val_loss: 0.0140 - 3774s/epoch - 37s/step\n",
      "Epoch 14/15\n",
      "101/101 - 1267s - loss: 0.0143 - val_loss: 0.0144 - 1267s/epoch - 13s/step\n",
      "Epoch 15/15\n",
      "101/101 - 1240s - loss: 0.0137 - val_loss: 0.0189 - 1240s/epoch - 12s/step\n"
     ]
    },
    {
     "data": {
      "text/plain": [
       "<keras.callbacks.History at 0x13e4d119060>"
      ]
     },
     "execution_count": 15,
     "metadata": {},
     "output_type": "execute_result"
    }
   ],
   "source": [
    "model.fit(X_train, y_train, validation_split=0.1, batch_size=10, epochs = 15, verbose=2)"
   ]
  },
  {
   "cell_type": "code",
   "execution_count": 14,
   "id": "3417b051",
   "metadata": {},
   "outputs": [],
   "source": [
    "model = load_model('models/ship_segment_model.h5')     # the same model as shown above"
   ]
  },
  {
   "cell_type": "code",
   "execution_count": 29,
   "id": "22df89aa",
   "metadata": {},
   "outputs": [
    {
     "name": "stdout",
     "output_type": "stream",
     "text": [
      "48/48 - 72s - 72s/epoch - 1s/step\n"
     ]
    }
   ],
   "source": [
    "pred = model.predict(x=X_test, batch_size=10, verbose=2)"
   ]
  },
  {
   "cell_type": "code",
   "execution_count": 43,
   "id": "352be701",
   "metadata": {},
   "outputs": [],
   "source": [
    "pred_eval=pred.flatten()\n",
    "for i in range(len(pred_eval)):\n",
    "    if pred_eval[i] > 0.5:\n",
    "        pred_eval[i]=1 "
   ]
  },
  {
   "cell_type": "code",
   "execution_count": 45,
   "id": "d00e14a4",
   "metadata": {},
   "outputs": [],
   "source": [
    "def dice(pred, targs):\n",
    "    #pred = (pred>0).float()\n",
    "    return 2.0 * (pred*targs).sum() / ((pred+targs).sum() + 1.0)"
   ]
  },
  {
   "cell_type": "code",
   "execution_count": 46,
   "id": "35d71eca",
   "metadata": {},
   "outputs": [
    {
     "data": {
      "text/plain": [
       "0.27838859217888107"
      ]
     },
     "execution_count": 46,
     "metadata": {},
     "output_type": "execute_result"
    }
   ],
   "source": [
    "dice(pred_eval, y_true)"
   ]
  },
  {
   "cell_type": "code",
   "execution_count": 42,
   "id": "20e9a050",
   "metadata": {},
   "outputs": [
    {
     "data": {
      "text/plain": [
       "<matplotlib.image.AxesImage at 0x21cbd441b70>"
      ]
     },
     "execution_count": 42,
     "metadata": {},
     "output_type": "execute_result"
    },
    {
     "data": {
      "image/png": "[encoded data removed]",
      "text/plain": [
       "<Figure size 720x720 with 3 Axes>"
      ]
     },
     "metadata": {
      "needs_background": "light"
     },
     "output_type": "display_data"
    }
   ],
   "source": [
    "_, ax = plt.subplots(1, 3, figsize=(10, 10)) \n",
    "ax[0].imshow(pred[50])\n",
    "ax[1].imshow(X_test[50])\n",
    "ax[2].imshow(y_test[50])"
   ]
  },
  {
   "cell_type": "code",
   "execution_count": 47,
   "id": "6ab99cde",
   "metadata": {},
   "outputs": [
    {
     "data": {
      "text/plain": [
       "0.65530354"
      ]
     },
     "execution_count": 47,
     "metadata": {},
     "output_type": "execute_result"
    }
   ],
   "source": [
    "m = tf.keras.metrics.MeanIoU(num_classes=2)\n",
    "m.update_state(y_true, pred_eval)\n",
    "m.result().numpy()"
   ]
  }
 ],
 "metadata": {
  "kernelspec": {
   "display_name": "Python 3 (ipykernel)",
   "language": "python",
   "name": "python3"
  },
  "language_info": {
   "codemirror_mode": {
    "name": "ipython",
    "version": 3
   },
   "file_extension": ".py",
   "mimetype": "text/x-python",
   "name": "python",
   "nbconvert_exporter": "python",
   "pygments_lexer": "ipython3",
   "version": "3.10.5"
  }
 },
 "nbformat": 4,
 "nbformat_minor": 5
}
